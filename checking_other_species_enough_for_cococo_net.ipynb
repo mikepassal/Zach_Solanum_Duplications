{
 "cells": [
  {
   "cell_type": "code",
   "execution_count": 1,
   "metadata": {},
   "outputs": [],
   "source": [
    "import pandas as pd"
   ]
  },
  {
   "cell_type": "code",
   "execution_count": 2,
   "metadata": {},
   "outputs": [],
   "source": [
    "eggplant_reads = pd.read_csv('/home/passala/Gene_duplication_project/Code/Zach_solanum_project/Minor_tables/eggplant_info.csv')\n",
    "pimpen_reads = pd.read_csv('/home/passala/Gene_duplication_project/Code/Zach_solanum_project/Minor_tables/pimpen_info.csv')"
   ]
  },
  {
   "cell_type": "code",
   "execution_count": 4,
   "metadata": {},
   "outputs": [
    {
     "data": {
      "text/plain": [
       "Index(['Run', 'ReleaseDate', 'LoadDate', 'spots', 'bases', 'spots_with_mates',\n",
       "       'avgLength', 'size_MB', 'AssemblyName', 'download_path', 'Experiment',\n",
       "       'LibraryName', 'LibraryStrategy', 'LibrarySelection', 'LibrarySource',\n",
       "       'LibraryLayout', 'InsertSize', 'InsertDev', 'Platform', 'Model',\n",
       "       'SRAStudy', 'BioProject', 'Study_Pubmed_id', 'ProjectID', 'Sample',\n",
       "       'BioSample', 'SampleType', 'TaxID', 'ScientificName', 'SampleName',\n",
       "       'g1k_pop_code', 'source', 'g1k_analysis_group', 'Subject_ID', 'Sex',\n",
       "       'Disease', 'Tumor', 'Affection_Status', 'Analyte_Type',\n",
       "       'Histological_Type', 'Body_Site', 'CenterName', 'Submission',\n",
       "       'dbgap_study_accession', 'Consent', 'RunHash', 'ReadHash'],\n",
       "      dtype='object')"
      ]
     },
     "execution_count": 4,
     "metadata": {},
     "output_type": "execute_result"
    }
   ],
   "source": [
    "eggplant_reads.columns"
   ]
  },
  {
   "cell_type": "code",
   "execution_count": 5,
   "metadata": {},
   "outputs": [
    {
     "data": {
      "text/plain": [
       "SRAStudy\n",
       "SRP269923    72\n",
       "SRP151507    24\n",
       "ERP108302    22\n",
       "SRP262543    21\n",
       "SRP078398    20\n",
       "SRP216564    19\n",
       "SRP192207    18\n",
       "SRP316128    18\n",
       "SRP299590    18\n",
       "SRP188601    15\n",
       "SRP085349    13\n",
       "SRP291659    12\n",
       "SRP223131    12\n",
       "SRP335994    12\n",
       "SRP329430     9\n",
       "SRP165715     9\n",
       "SRP220150     8\n",
       "SRP303777     6\n",
       "SRP337112     6\n",
       "SRP127743     3\n",
       "SRP253944     3\n",
       "SRP310607     2\n",
       "SRP021480     2\n",
       "SRP277119     2\n",
       "SRP194237     2\n",
       "SRP310609     1\n",
       "SRP310610     1\n",
       "SRP310596     1\n",
       "SRP310595     1\n",
       "SRP310611     1\n",
       "SRP079155     1\n",
       "SRP035231     1\n",
       "SRP042003     1\n",
       "SRP074466     1\n",
       "SRP118902     1\n",
       "SRP108806     1\n",
       "SRP108795     1\n",
       "SRP108729     1\n",
       "SRP108697     1\n",
       "SRP108648     1\n",
       "SRP252918     1\n",
       "dtype: int64"
      ]
     },
     "execution_count": 5,
     "metadata": {},
     "output_type": "execute_result"
    }
   ],
   "source": [
    "eggplant_reads.value_counts('SRAStudy')"
   ]
  },
  {
   "cell_type": "code",
   "execution_count": 6,
   "metadata": {},
   "outputs": [
    {
     "data": {
      "text/plain": [
       "SRAStudy\n",
       "SRP090034    76\n",
       "SRP192754    72\n",
       "SRP192570    60\n",
       "SRP218206    56\n",
       "SRP017242    47\n",
       "SRP135718    36\n",
       "SRP048699    33\n",
       "SRP124605    24\n",
       "SRP019504    23\n",
       "DRP006943    19\n",
       "SRP089970    16\n",
       "SRP018135    12\n",
       "SRP278942    12\n",
       "SRP059571    10\n",
       "SRP079155    10\n",
       "SRP063634    10\n",
       "SRP216764    10\n",
       "SRP078159     9\n",
       "SRP267721     9\n",
       "SRP090032     8\n",
       "SRP010775     8\n",
       "SRP308203     6\n",
       "SRP056960     6\n",
       "SRP218824     6\n",
       "SRP050532     6\n",
       "SRP019754     4\n",
       "SRP172989     3\n",
       "SRP139770     3\n",
       "SRP007969     3\n",
       "SRP009216     2\n",
       "SRP095379     2\n",
       "SRP067562     2\n",
       "SRP310410     2\n",
       "SRP065969     1\n",
       "dtype: int64"
      ]
     },
     "execution_count": 6,
     "metadata": {},
     "output_type": "execute_result"
    }
   ],
   "source": [
    "pimpen_reads.value_counts(\"SRAStudy\")"
   ]
  },
  {
   "cell_type": "code",
   "execution_count": null,
   "metadata": {},
   "outputs": [],
   "source": []
  }
 ],
 "metadata": {
  "interpreter": {
   "hash": "916dbcbb3f70747c44a77c7bcd40155683ae19c65e1c03b4aa3499c5328201f1"
  },
  "kernelspec": {
   "display_name": "Python 3.6.8 64-bit",
   "language": "python",
   "name": "python3"
  },
  "language_info": {
   "codemirror_mode": {
    "name": "ipython",
    "version": 3
   },
   "file_extension": ".py",
   "mimetype": "text/x-python",
   "name": "python",
   "nbconvert_exporter": "python",
   "pygments_lexer": "ipython3",
   "version": "3.9.1"
  },
  "orig_nbformat": 4
 },
 "nbformat": 4,
 "nbformat_minor": 2
}
